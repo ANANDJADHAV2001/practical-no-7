{
  "nbformat": 4,
  "nbformat_minor": 0,
  "metadata": {
    "colab": {
      "name": "practical no7.ipynb",
      "provenance": []
    },
    "kernelspec": {
      "name": "python3",
      "display_name": "Python 3"
    },
    "language_info": {
      "name": "python"
    }
  },
  "cells": [
    {
      "cell_type": "markdown",
      "source": [
        "Write a program to demonstrate working with dictionaries in python."
      ],
      "metadata": {
        "id": "v9LZvm6ZvUQO"
      }
    },
    {
      "cell_type": "code",
      "execution_count": 2,
      "metadata": {
        "colab": {
          "base_uri": "https://localhost:8080/"
        },
        "id": "2VXMzmd6t4uB",
        "outputId": "5f2a60aa-96bb-404c-c2b7-321e1cb70293"
      },
      "outputs": [
        {
          "output_type": "stream",
          "name": "stdout",
          "text": [
            "\n",
            " Dictionary is : {'StdNo': '532', 'StuName': 'Anand', 'StuAge': 21, 'StuCity': 'Jalgaon'}\n",
            "\n",
            " Student Name is : Anand\n",
            "\n",
            " Student City is : Jalgaon\n",
            "\n",
            " All Keys in Dictionary \n",
            "StdNo\n",
            "StuName\n",
            "StuAge\n",
            "StuCity\n",
            "\n",
            " All Values in Dictionary \n",
            "532\n",
            "Anand\n",
            "21\n",
            "Jalgaon\n",
            "\n",
            " Uadated Dictionary is : {'StdNo': '532', 'StuName': 'Anand', 'StuAge': 21, 'StuCity': 'Jalgaon', 'Phno': 85457854}\n",
            "\n",
            " Uadated Dictionary is : {'StdNo': '532', 'StuName': 'Mohan', 'StuAge': 21, 'StuCity': 'Jalgaon', 'Phno': 85457854}\n",
            "\n",
            " Uadated Dictionary is : {'StdNo': '532', 'StuName': 'Mohan', 'StuCity': 'Jalgaon', 'Phno': 85457854}\n",
            "Length of Dictionary is : 4\n",
            "\n",
            " New Dictionary is : {'StdNo': '532', 'StuName': 'Mohan', 'StuCity': 'Jalgaon', 'Phno': 85457854}\n",
            "\n",
            " Uadated Dictionary is : {}\n"
          ]
        }
      ],
      "source": [
        "dict1 = {'StdNo':'532','StuName': 'Anand', 'StuAge': 21, 'StuCity': 'Jalgaon'}\n",
        "print(\"\\n Dictionary is :\",dict1)\n",
        "#Accessing specific values \n",
        "print(\"\\n Student Name is :\",dict1['StuName'])\n",
        "print(\"\\n Student City is :\",dict1['StuCity'])\n",
        "#Display all Keys\n",
        "print(\"\\n All Keys in Dictionary \")\n",
        "for x in dict1:\n",
        "    print(x)\n",
        "#Display all values\n",
        "print(\"\\n All Values in Dictionary \")\n",
        "for x in dict1:\n",
        "    print(dict1[x])\n",
        "#Adding items\n",
        "dict1[\"Phno\"]=85457854\n",
        "#Updated dictoinary\n",
        "print(\"\\n Uadated Dictionary is :\",dict1)\n",
        "#Change values\n",
        "dict1[\"StuName\"]=\"Mohan\"\n",
        "#Updated dictoinary\n",
        "print(\"\\n Uadated Dictionary is :\",dict1)\n",
        "#Removing Items\n",
        "dict1.pop(\"StuAge\");\n",
        "#Updated dictoinary\n",
        "print(\"\\n Uadated Dictionary is :\",dict1)\n",
        "#Length of Dictionary\n",
        "print(\"Length of Dictionary is :\",len(dict1))\n",
        "#Copy a Dictionary\n",
        "dict2=dict1.copy()\n",
        "#New dictoinary\n",
        "print(\"\\n New Dictionary is :\",dict2)\n",
        "#empties the dictionary\n",
        "dict1.clear()\n",
        "print(\"\\n Uadated Dictionary is :\",dict1)"
      ]
    }
  ]
}